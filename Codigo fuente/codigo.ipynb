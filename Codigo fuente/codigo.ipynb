{
 "cells": [
  {
   "cell_type": "markdown",
   "id": "43935b96-7c0a-4fc4-a384-d0f3f480a405",
   "metadata": {},
   "source": [
    "### Noelia Felipe Ramirez"
   ]
  },
  {
   "cell_type": "markdown",
   "id": "9802ba46-d04d-4fe2-b211-f9670759acdf",
   "metadata": {},
   "source": [
    "### Librerias"
   ]
  },
  {
   "cell_type": "code",
   "execution_count": 128,
   "id": "593ef183-9d07-45ce-935b-01d029edec0d",
   "metadata": {},
   "outputs": [],
   "source": [
    "import numpy as np\n",
    "import pandas as pd\n",
    "import os\n",
    "import matplotlib.pyplot as plt\n",
    "import seaborn as sns\n",
    "%matplotlib inline"
   ]
  },
  {
   "cell_type": "markdown",
   "id": "5724b5de-1616-4178-aa4c-6febce745beb",
   "metadata": {},
   "source": [
    "### 1.-Lectura del archivo"
   ]
  },
  {
   "cell_type": "code",
   "execution_count": 129,
   "id": "a8da1ba8-8172-4621-9430-45db2c0e9a9f",
   "metadata": {},
   "outputs": [],
   "source": [
    "datos = pd.read_csv('ds_salaries.csv')"
   ]
  },
  {
   "cell_type": "code",
   "execution_count": 130,
   "id": "680c0bb9-f290-4d24-ae3f-ab00055a7a32",
   "metadata": {},
   "outputs": [
    {
     "data": {
      "text/html": [
       "<div>\n",
       "<style scoped>\n",
       "    .dataframe tbody tr th:only-of-type {\n",
       "        vertical-align: middle;\n",
       "    }\n",
       "\n",
       "    .dataframe tbody tr th {\n",
       "        vertical-align: top;\n",
       "    }\n",
       "\n",
       "    .dataframe thead th {\n",
       "        text-align: right;\n",
       "    }\n",
       "</style>\n",
       "<table border=\"1\" class=\"dataframe\">\n",
       "  <thead>\n",
       "    <tr style=\"text-align: right;\">\n",
       "      <th></th>\n",
       "      <th>work_year</th>\n",
       "      <th>experience_level</th>\n",
       "      <th>employment_type</th>\n",
       "      <th>job_title</th>\n",
       "      <th>salary</th>\n",
       "      <th>salary_currency</th>\n",
       "      <th>salary_in_usd</th>\n",
       "      <th>employee_residence</th>\n",
       "      <th>remote_ratio</th>\n",
       "      <th>company_location</th>\n",
       "      <th>company_size</th>\n",
       "    </tr>\n",
       "  </thead>\n",
       "  <tbody>\n",
       "    <tr>\n",
       "      <th>0</th>\n",
       "      <td>2023</td>\n",
       "      <td>SE</td>\n",
       "      <td>FT</td>\n",
       "      <td>Principal Data Scientist</td>\n",
       "      <td>80000</td>\n",
       "      <td>EUR</td>\n",
       "      <td>85847</td>\n",
       "      <td>ES</td>\n",
       "      <td>100</td>\n",
       "      <td>ES</td>\n",
       "      <td>L</td>\n",
       "    </tr>\n",
       "    <tr>\n",
       "      <th>1</th>\n",
       "      <td>2023</td>\n",
       "      <td>MI</td>\n",
       "      <td>CT</td>\n",
       "      <td>ML Engineer</td>\n",
       "      <td>30000</td>\n",
       "      <td>USD</td>\n",
       "      <td>30000</td>\n",
       "      <td>US</td>\n",
       "      <td>100</td>\n",
       "      <td>US</td>\n",
       "      <td>S</td>\n",
       "    </tr>\n",
       "    <tr>\n",
       "      <th>2</th>\n",
       "      <td>2023</td>\n",
       "      <td>MI</td>\n",
       "      <td>CT</td>\n",
       "      <td>ML Engineer</td>\n",
       "      <td>25500</td>\n",
       "      <td>USD</td>\n",
       "      <td>25500</td>\n",
       "      <td>US</td>\n",
       "      <td>100</td>\n",
       "      <td>US</td>\n",
       "      <td>S</td>\n",
       "    </tr>\n",
       "    <tr>\n",
       "      <th>3</th>\n",
       "      <td>2023</td>\n",
       "      <td>SE</td>\n",
       "      <td>FT</td>\n",
       "      <td>Data Scientist</td>\n",
       "      <td>175000</td>\n",
       "      <td>USD</td>\n",
       "      <td>175000</td>\n",
       "      <td>CA</td>\n",
       "      <td>100</td>\n",
       "      <td>CA</td>\n",
       "      <td>M</td>\n",
       "    </tr>\n",
       "    <tr>\n",
       "      <th>4</th>\n",
       "      <td>2023</td>\n",
       "      <td>SE</td>\n",
       "      <td>FT</td>\n",
       "      <td>Data Scientist</td>\n",
       "      <td>120000</td>\n",
       "      <td>USD</td>\n",
       "      <td>120000</td>\n",
       "      <td>CA</td>\n",
       "      <td>100</td>\n",
       "      <td>CA</td>\n",
       "      <td>M</td>\n",
       "    </tr>\n",
       "    <tr>\n",
       "      <th>...</th>\n",
       "      <td>...</td>\n",
       "      <td>...</td>\n",
       "      <td>...</td>\n",
       "      <td>...</td>\n",
       "      <td>...</td>\n",
       "      <td>...</td>\n",
       "      <td>...</td>\n",
       "      <td>...</td>\n",
       "      <td>...</td>\n",
       "      <td>...</td>\n",
       "      <td>...</td>\n",
       "    </tr>\n",
       "    <tr>\n",
       "      <th>3750</th>\n",
       "      <td>2020</td>\n",
       "      <td>SE</td>\n",
       "      <td>FT</td>\n",
       "      <td>Data Scientist</td>\n",
       "      <td>412000</td>\n",
       "      <td>USD</td>\n",
       "      <td>412000</td>\n",
       "      <td>US</td>\n",
       "      <td>100</td>\n",
       "      <td>US</td>\n",
       "      <td>L</td>\n",
       "    </tr>\n",
       "    <tr>\n",
       "      <th>3751</th>\n",
       "      <td>2021</td>\n",
       "      <td>MI</td>\n",
       "      <td>FT</td>\n",
       "      <td>Principal Data Scientist</td>\n",
       "      <td>151000</td>\n",
       "      <td>USD</td>\n",
       "      <td>151000</td>\n",
       "      <td>US</td>\n",
       "      <td>100</td>\n",
       "      <td>US</td>\n",
       "      <td>L</td>\n",
       "    </tr>\n",
       "    <tr>\n",
       "      <th>3752</th>\n",
       "      <td>2020</td>\n",
       "      <td>EN</td>\n",
       "      <td>FT</td>\n",
       "      <td>Data Scientist</td>\n",
       "      <td>105000</td>\n",
       "      <td>USD</td>\n",
       "      <td>105000</td>\n",
       "      <td>US</td>\n",
       "      <td>100</td>\n",
       "      <td>US</td>\n",
       "      <td>S</td>\n",
       "    </tr>\n",
       "    <tr>\n",
       "      <th>3753</th>\n",
       "      <td>2020</td>\n",
       "      <td>EN</td>\n",
       "      <td>CT</td>\n",
       "      <td>Business Data Analyst</td>\n",
       "      <td>100000</td>\n",
       "      <td>USD</td>\n",
       "      <td>100000</td>\n",
       "      <td>US</td>\n",
       "      <td>100</td>\n",
       "      <td>US</td>\n",
       "      <td>L</td>\n",
       "    </tr>\n",
       "    <tr>\n",
       "      <th>3754</th>\n",
       "      <td>2021</td>\n",
       "      <td>SE</td>\n",
       "      <td>FT</td>\n",
       "      <td>Data Science Manager</td>\n",
       "      <td>7000000</td>\n",
       "      <td>INR</td>\n",
       "      <td>94665</td>\n",
       "      <td>IN</td>\n",
       "      <td>50</td>\n",
       "      <td>IN</td>\n",
       "      <td>L</td>\n",
       "    </tr>\n",
       "  </tbody>\n",
       "</table>\n",
       "<p>3755 rows × 11 columns</p>\n",
       "</div>"
      ],
      "text/plain": [
       "      work_year experience_level employment_type                 job_title  \\\n",
       "0          2023               SE              FT  Principal Data Scientist   \n",
       "1          2023               MI              CT               ML Engineer   \n",
       "2          2023               MI              CT               ML Engineer   \n",
       "3          2023               SE              FT            Data Scientist   \n",
       "4          2023               SE              FT            Data Scientist   \n",
       "...         ...              ...             ...                       ...   \n",
       "3750       2020               SE              FT            Data Scientist   \n",
       "3751       2021               MI              FT  Principal Data Scientist   \n",
       "3752       2020               EN              FT            Data Scientist   \n",
       "3753       2020               EN              CT     Business Data Analyst   \n",
       "3754       2021               SE              FT      Data Science Manager   \n",
       "\n",
       "       salary salary_currency  salary_in_usd employee_residence  remote_ratio  \\\n",
       "0       80000             EUR          85847                 ES           100   \n",
       "1       30000             USD          30000                 US           100   \n",
       "2       25500             USD          25500                 US           100   \n",
       "3      175000             USD         175000                 CA           100   \n",
       "4      120000             USD         120000                 CA           100   \n",
       "...       ...             ...            ...                ...           ...   \n",
       "3750   412000             USD         412000                 US           100   \n",
       "3751   151000             USD         151000                 US           100   \n",
       "3752   105000             USD         105000                 US           100   \n",
       "3753   100000             USD         100000                 US           100   \n",
       "3754  7000000             INR          94665                 IN            50   \n",
       "\n",
       "     company_location company_size  \n",
       "0                  ES            L  \n",
       "1                  US            S  \n",
       "2                  US            S  \n",
       "3                  CA            M  \n",
       "4                  CA            M  \n",
       "...               ...          ...  \n",
       "3750               US            L  \n",
       "3751               US            L  \n",
       "3752               US            S  \n",
       "3753               US            L  \n",
       "3754               IN            L  \n",
       "\n",
       "[3755 rows x 11 columns]"
      ]
     },
     "execution_count": 130,
     "metadata": {},
     "output_type": "execute_result"
    }
   ],
   "source": [
    "datos"
   ]
  },
  {
   "cell_type": "code",
   "execution_count": 131,
   "id": "bfd0d981-4913-4667-b4e3-fd8a88763b09",
   "metadata": {},
   "outputs": [
    {
     "data": {
      "text/plain": [
       "(3755, 11)"
      ]
     },
     "execution_count": 131,
     "metadata": {},
     "output_type": "execute_result"
    }
   ],
   "source": [
    "datos.shape"
   ]
  },
  {
   "cell_type": "markdown",
   "id": "0747c61b-11f2-429d-8bac-7af72b1e59f7",
   "metadata": {},
   "source": [
    "### 2.-Descripcion de la fuente de datos (Mark down)"
   ]
  },
  {
   "cell_type": "markdown",
   "id": "fa5856c0-e452-46f3-8f5f-5eb6c73d4301",
   "metadata": {},
   "source": [
    "Los datos provienen del dataset de Salarios en Kaggle, que contiene información sobre sueldos de empleados en diferentes sectores, ubicaciones y años.\n",
    "El dataset se utiliza para analizar las tendencias salariales en distintas industrias, niveles de experiencia, tipos de empleo, entre otros factores."
   ]
  },
  {
   "cell_type": "markdown",
   "id": "c200eb83-130f-4aa7-9d62-f58aa19d73bb",
   "metadata": {},
   "source": [
    "### 3.-Descripcion de las variables (Categoricas, Cuantitativas (discretas y continuas))¶"
   ]
  },
  {
   "cell_type": "markdown",
   "id": "385f39d7-7e5a-4ab2-a066-bfeba1a9ba8b",
   "metadata": {},
   "source": [
    "  \n",
    "**Categóricas**  \n",
    "**experience_level:**  \n",
    "Descripción: Nivel de experiencia del empleado.  \n",
    "Ejemplos de valores: Junior, Mid, Senior, Expert.  \n",
    "Tipo: Categórica nominal.  \n",
    "**employment_type:**  \n",
    "Descripción: Tipo de empleo del trabajador.  \n",
    "Ejemplos de valores: Full-time, Part-time, Contractor, Freelance.  \n",
    "Tipo: Categórica nominal.  \n",
    "**job_title:**  \n",
    "Descripción: Título del puesto de trabajo.  \n",
    "Ejemplos de valores: Data Scientist, Software Engineer, Business Analyst.  \n",
    "Tipo: Categórica nominal.  \n",
    "**salary_currency:**  \n",
    "Descripción: Moneda en la que se expresa el salario.  \n",
    "Ejemplos de valores: USD, EUR, GBP.  \n",
    "Tipo: Categórica nominal.  \n",
    "**employee_residence:**  \n",
    "Descripción: País de residencia del empleado.  \n",
    "Ejemplos de valores: USA, Canada, UK.  \n",
    "Tipo: Categórica nominal.  \n",
    "**company_location:**  \n",
    "Descripción: País en el que se encuentra la empresa.  \n",
    "Ejemplos de valores: USA, Canada, UK.  \n",
    "Tipo: Categórica nominal.  \n",
    "**company_size:**  \n",
    "Descripción: Tamaño de la empresa en la que trabaja el empleado.  \n",
    "Ejemplos de valores: Small, Medium, Large.\n",
    "Tipo: Categórica ordinal (ya que tiene un orden implícito: pequeño, mediano, grande).  \n",
    "**remote_ratio:**  \n",
    "Descripción: Proporción del trabajo que es remoto (en comparación con presencial).  \n",
    "Ejemplos de valores: 0 (No remoto), 50 (Mixto), 100 (Totalmente remoto).  \n",
    "Tipo: Categórica ordinal (porque hay un orden implícito en la cantidad de trabajo remoto).  \n",
    "\n",
    "**Variables Cuantitativas:**\n",
    "Estas variables representan cantidades numéricas. Pueden ser discretas o continuas.  \n",
    "**work_year:**  \n",
    "Descripción: Año en que se registró el salario.  \n",
    "Ejemplos de valores: 2020, 2021, 2022.  \n",
    "Tipo: Cuantitativa discreta (los valores son números enteros que representan años).  \n",
    "**salary:**  \n",
    "Descripción: Salario del empleado en la moneda local.  \n",
    "Tipo: Cuantitativa continua (ya que puede tomar cualquier valor dentro de un rango).  \n",
    "**salary_in_usd:**  \n",
    "Descripción: Salario convertido a dólares estadounidenses.  \n",
    "Tipo: Cuantitativa continua (porque es un valor numérico que puede variar en un rango amplio). (L).\r\n",
    "á.\r\n",
    "c.\r\n",
    ", etc.\r\n",
    "\n"
   ]
  },
  {
   "cell_type": "markdown",
   "id": "8591a2b8-d9f7-4602-94a6-d11b055b27dd",
   "metadata": {},
   "source": [
    "### 4.-Tratamiento de datos nulos"
   ]
  },
  {
   "cell_type": "markdown",
   "id": "4ff9050d-7df3-45fb-a49b-5d2e8f6dfa59",
   "metadata": {},
   "source": [
    "**No se encontro ningun datos nulo**"
   ]
  },
  {
   "cell_type": "code",
   "execution_count": 132,
   "id": "17b2b222-3ab8-445d-bce8-8574d65cd386",
   "metadata": {},
   "outputs": [
    {
     "name": "stdout",
     "output_type": "stream",
     "text": [
      "<class 'pandas.core.frame.DataFrame'>\n",
      "RangeIndex: 3755 entries, 0 to 3754\n",
      "Data columns (total 11 columns):\n",
      " #   Column              Non-Null Count  Dtype \n",
      "---  ------              --------------  ----- \n",
      " 0   work_year           3755 non-null   int64 \n",
      " 1   experience_level    3755 non-null   object\n",
      " 2   employment_type     3755 non-null   object\n",
      " 3   job_title           3755 non-null   object\n",
      " 4   salary              3755 non-null   int64 \n",
      " 5   salary_currency     3755 non-null   object\n",
      " 6   salary_in_usd       3755 non-null   int64 \n",
      " 7   employee_residence  3755 non-null   object\n",
      " 8   remote_ratio        3755 non-null   int64 \n",
      " 9   company_location    3755 non-null   object\n",
      " 10  company_size        3755 non-null   object\n",
      "dtypes: int64(4), object(7)\n",
      "memory usage: 322.8+ KB\n"
     ]
    }
   ],
   "source": [
    "datos.info()"
   ]
  },
  {
   "cell_type": "code",
   "execution_count": 133,
   "id": "f08d6fba-f82b-45bd-bd72-2de186c5cf21",
   "metadata": {},
   "outputs": [
    {
     "data": {
      "text/plain": [
       "work_year             0\n",
       "experience_level      0\n",
       "employment_type       0\n",
       "job_title             0\n",
       "salary                0\n",
       "salary_currency       0\n",
       "salary_in_usd         0\n",
       "employee_residence    0\n",
       "remote_ratio          0\n",
       "company_location      0\n",
       "company_size          0\n",
       "dtype: int64"
      ]
     },
     "execution_count": 133,
     "metadata": {},
     "output_type": "execute_result"
    }
   ],
   "source": [
    "datos.isnull().sum()"
   ]
  },
  {
   "cell_type": "code",
   "execution_count": 134,
   "id": "7b51284d-ff9a-4d32-9b92-51f04a145a88",
   "metadata": {},
   "outputs": [
    {
     "data": {
      "text/plain": [
       "work_year              int64\n",
       "experience_level      object\n",
       "employment_type       object\n",
       "job_title             object\n",
       "salary                 int64\n",
       "salary_currency       object\n",
       "salary_in_usd          int64\n",
       "employee_residence    object\n",
       "remote_ratio           int64\n",
       "company_location      object\n",
       "company_size          object\n",
       "dtype: object"
      ]
     },
     "execution_count": 134,
     "metadata": {},
     "output_type": "execute_result"
    }
   ],
   "source": [
    "datos.dtypes"
   ]
  },
  {
   "cell_type": "markdown",
   "id": "153504cc-5f55-4c2b-a784-bfb00c3082cc",
   "metadata": {},
   "source": [
    "### 5.-Analice 2 variables y determine sus estadisticos de tendencia central y dispersión."
   ]
  },
  {
   "cell_type": "code",
   "execution_count": 135,
   "id": "9bcd2234-3eb4-4cde-b9ec-0925ebb4df8b",
   "metadata": {
    "scrolled": true
   },
   "outputs": [
    {
     "data": {
      "text/html": [
       "<div>\n",
       "<style scoped>\n",
       "    .dataframe tbody tr th:only-of-type {\n",
       "        vertical-align: middle;\n",
       "    }\n",
       "\n",
       "    .dataframe tbody tr th {\n",
       "        vertical-align: top;\n",
       "    }\n",
       "\n",
       "    .dataframe thead th {\n",
       "        text-align: right;\n",
       "    }\n",
       "</style>\n",
       "<table border=\"1\" class=\"dataframe\">\n",
       "  <thead>\n",
       "    <tr style=\"text-align: right;\">\n",
       "      <th></th>\n",
       "      <th>work_year</th>\n",
       "      <th>salary</th>\n",
       "      <th>salary_in_usd</th>\n",
       "      <th>remote_ratio</th>\n",
       "    </tr>\n",
       "  </thead>\n",
       "  <tbody>\n",
       "    <tr>\n",
       "      <th>count</th>\n",
       "      <td>3755.000000</td>\n",
       "      <td>3.755000e+03</td>\n",
       "      <td>3755.000000</td>\n",
       "      <td>3755.000000</td>\n",
       "    </tr>\n",
       "    <tr>\n",
       "      <th>mean</th>\n",
       "      <td>2022.373635</td>\n",
       "      <td>1.906956e+05</td>\n",
       "      <td>137570.389880</td>\n",
       "      <td>46.271638</td>\n",
       "    </tr>\n",
       "    <tr>\n",
       "      <th>std</th>\n",
       "      <td>0.691448</td>\n",
       "      <td>6.716765e+05</td>\n",
       "      <td>63055.625278</td>\n",
       "      <td>48.589050</td>\n",
       "    </tr>\n",
       "    <tr>\n",
       "      <th>min</th>\n",
       "      <td>2020.000000</td>\n",
       "      <td>6.000000e+03</td>\n",
       "      <td>5132.000000</td>\n",
       "      <td>0.000000</td>\n",
       "    </tr>\n",
       "    <tr>\n",
       "      <th>25%</th>\n",
       "      <td>2022.000000</td>\n",
       "      <td>1.000000e+05</td>\n",
       "      <td>95000.000000</td>\n",
       "      <td>0.000000</td>\n",
       "    </tr>\n",
       "    <tr>\n",
       "      <th>50%</th>\n",
       "      <td>2022.000000</td>\n",
       "      <td>1.380000e+05</td>\n",
       "      <td>135000.000000</td>\n",
       "      <td>0.000000</td>\n",
       "    </tr>\n",
       "    <tr>\n",
       "      <th>75%</th>\n",
       "      <td>2023.000000</td>\n",
       "      <td>1.800000e+05</td>\n",
       "      <td>175000.000000</td>\n",
       "      <td>100.000000</td>\n",
       "    </tr>\n",
       "    <tr>\n",
       "      <th>max</th>\n",
       "      <td>2023.000000</td>\n",
       "      <td>3.040000e+07</td>\n",
       "      <td>450000.000000</td>\n",
       "      <td>100.000000</td>\n",
       "    </tr>\n",
       "  </tbody>\n",
       "</table>\n",
       "</div>"
      ],
      "text/plain": [
       "         work_year        salary  salary_in_usd  remote_ratio\n",
       "count  3755.000000  3.755000e+03    3755.000000   3755.000000\n",
       "mean   2022.373635  1.906956e+05  137570.389880     46.271638\n",
       "std       0.691448  6.716765e+05   63055.625278     48.589050\n",
       "min    2020.000000  6.000000e+03    5132.000000      0.000000\n",
       "25%    2022.000000  1.000000e+05   95000.000000      0.000000\n",
       "50%    2022.000000  1.380000e+05  135000.000000      0.000000\n",
       "75%    2023.000000  1.800000e+05  175000.000000    100.000000\n",
       "max    2023.000000  3.040000e+07  450000.000000    100.000000"
      ]
     },
     "execution_count": 135,
     "metadata": {},
     "output_type": "execute_result"
    }
   ],
   "source": [
    "datos.describe()"
   ]
  },
  {
   "cell_type": "markdown",
   "id": "3b1c42ac-a426-4cc4-b99c-2dace68ec407",
   "metadata": {},
   "source": [
    "**CONCLUSION.-** No se encontro ningun datos nulo"
   ]
  },
  {
   "cell_type": "markdown",
   "id": "fe95c082-eb36-4e75-b986-b4912ea083bf",
   "metadata": {},
   "source": [
    "### Las variables elegidas para el análisis son las siguientes: (salary_in_usd) y (job_title)"
   ]
  },
  {
   "cell_type": "code",
   "execution_count": 136,
   "id": "054f63c0-1995-4bf6-9745-8fc05f20fc4c",
   "metadata": {},
   "outputs": [],
   "source": [
    "mode_Entidad = datos['job_title'].mode()[0]"
   ]
  },
  {
   "cell_type": "markdown",
   "id": "77b69d43-546d-4ffb-93cb-6d22d8258d00",
   "metadata": {},
   "source": [
    "## Analisis de salari_in_usd"
   ]
  },
  {
   "cell_type": "code",
   "execution_count": 137,
   "id": "4ed906d3-a92b-459a-898c-4bc5bbf488e0",
   "metadata": {},
   "outputs": [
    {
     "data": {
      "text/plain": [
       "mean      137570.38988\n",
       "median    135000.00000\n",
       "Name: salary_in_usd, dtype: float64"
      ]
     },
     "execution_count": 137,
     "metadata": {},
     "output_type": "execute_result"
    }
   ],
   "source": [
    "tendencia_central = datos['salary_in_usd'].agg(['mean','median'])\n",
    "tendencia_central"
   ]
  },
  {
   "cell_type": "code",
   "execution_count": 324,
   "id": "d6970886-150e-48e9-a962-112ab16fbaeb",
   "metadata": {},
   "outputs": [
    {
     "data": {
      "text/html": [
       "<div>\n",
       "<style scoped>\n",
       "    .dataframe tbody tr th:only-of-type {\n",
       "        vertical-align: middle;\n",
       "    }\n",
       "\n",
       "    .dataframe tbody tr th {\n",
       "        vertical-align: top;\n",
       "    }\n",
       "\n",
       "    .dataframe thead th {\n",
       "        text-align: right;\n",
       "    }\n",
       "</style>\n",
       "<table border=\"1\" class=\"dataframe\">\n",
       "  <thead>\n",
       "    <tr style=\"text-align: right;\">\n",
       "      <th></th>\n",
       "      <th>Tendencia de dispersión: salary_in_usd</th>\n",
       "    </tr>\n",
       "  </thead>\n",
       "  <tbody>\n",
       "    <tr>\n",
       "      <th>std</th>\n",
       "      <td>63055.625278</td>\n",
       "    </tr>\n",
       "    <tr>\n",
       "      <th>min</th>\n",
       "      <td>5132.000000</td>\n",
       "    </tr>\n",
       "    <tr>\n",
       "      <th>max</th>\n",
       "      <td>450000.000000</td>\n",
       "    </tr>\n",
       "    <tr>\n",
       "      <th>25%</th>\n",
       "      <td>95000.000000</td>\n",
       "    </tr>\n",
       "    <tr>\n",
       "      <th>75%</th>\n",
       "      <td>95000.000000</td>\n",
       "    </tr>\n",
       "  </tbody>\n",
       "</table>\n",
       "</div>"
      ],
      "text/plain": [
       "     Tendencia de dispersión: salary_in_usd\n",
       "std                            63055.625278\n",
       "min                             5132.000000\n",
       "max                           450000.000000\n",
       "25%                            95000.000000\n",
       "75%                            95000.000000"
      ]
     },
     "execution_count": 324,
     "metadata": {},
     "output_type": "execute_result"
    }
   ],
   "source": [
    "cuartil25 = datos['salary_in_usd'].quantile(0.25)\n",
    "cuartil75 = datos['salary_in_usd'].quantile(0.75)\n",
    "dispersion = datos['salary_in_usd'].agg(['std','min','max'])\n",
    "cuartiles = pd.Series({'25%': cuartil25, '75%': cuartil25})\n",
    "\n",
    "dispersionCompleta = pd.concat([dispersion, cuartiles]).to_frame('Tendencia de dispersión: salary_in_usd')\n",
    "\n",
    "dispersionCompleta"
   ]
  },
  {
   "cell_type": "markdown",
   "id": "593dbdfb-ae1a-4438-9d27-ca396a57d6b3",
   "metadata": {},
   "source": [
    "### Analisis de la variable job_title"
   ]
  },
  {
   "cell_type": "code",
   "execution_count": 139,
   "id": "253704ce-b56a-489d-ae2e-09c7d31f816b",
   "metadata": {},
   "outputs": [
    {
     "data": {
      "text/plain": [
       "0    Data Engineer\n",
       "Name: job_title, dtype: object"
      ]
     },
     "execution_count": 139,
     "metadata": {},
     "output_type": "execute_result"
    }
   ],
   "source": [
    "tendenciaCentral = datos['job_title'].mode()\n",
    "tendenciaCentral"
   ]
  },
  {
   "cell_type": "code",
   "execution_count": 140,
   "id": "5decf792-0dd2-40d3-b0e3-112f0098530f",
   "metadata": {},
   "outputs": [
    {
     "data": {
      "text/html": [
       "<div>\n",
       "<style scoped>\n",
       "    .dataframe tbody tr th:only-of-type {\n",
       "        vertical-align: middle;\n",
       "    }\n",
       "\n",
       "    .dataframe tbody tr th {\n",
       "        vertical-align: top;\n",
       "    }\n",
       "\n",
       "    .dataframe thead th {\n",
       "        text-align: right;\n",
       "    }\n",
       "</style>\n",
       "<table border=\"1\" class=\"dataframe\">\n",
       "  <thead>\n",
       "    <tr style=\"text-align: right;\">\n",
       "      <th>col_0</th>\n",
       "      <th>job_title</th>\n",
       "      <th>Frecuencia_Absoluta</th>\n",
       "      <th>Frecuencia_Relativa</th>\n",
       "    </tr>\n",
       "  </thead>\n",
       "  <tbody>\n",
       "    <tr>\n",
       "      <th>0</th>\n",
       "      <td>Data Engineer</td>\n",
       "      <td>1040</td>\n",
       "      <td>0.276964</td>\n",
       "    </tr>\n",
       "    <tr>\n",
       "      <th>1</th>\n",
       "      <td>Data Scientist</td>\n",
       "      <td>840</td>\n",
       "      <td>0.223702</td>\n",
       "    </tr>\n",
       "    <tr>\n",
       "      <th>2</th>\n",
       "      <td>Data Analyst</td>\n",
       "      <td>612</td>\n",
       "      <td>0.162983</td>\n",
       "    </tr>\n",
       "    <tr>\n",
       "      <th>3</th>\n",
       "      <td>Machine Learning Engineer</td>\n",
       "      <td>289</td>\n",
       "      <td>0.076964</td>\n",
       "    </tr>\n",
       "    <tr>\n",
       "      <th>4</th>\n",
       "      <td>Analytics Engineer</td>\n",
       "      <td>103</td>\n",
       "      <td>0.027430</td>\n",
       "    </tr>\n",
       "    <tr>\n",
       "      <th>...</th>\n",
       "      <td>...</td>\n",
       "      <td>...</td>\n",
       "      <td>...</td>\n",
       "    </tr>\n",
       "    <tr>\n",
       "      <th>88</th>\n",
       "      <td>Compliance Data Analyst</td>\n",
       "      <td>1</td>\n",
       "      <td>0.000266</td>\n",
       "    </tr>\n",
       "    <tr>\n",
       "      <th>89</th>\n",
       "      <td>Cloud Data Architect</td>\n",
       "      <td>1</td>\n",
       "      <td>0.000266</td>\n",
       "    </tr>\n",
       "    <tr>\n",
       "      <th>90</th>\n",
       "      <td>BI Data Engineer</td>\n",
       "      <td>1</td>\n",
       "      <td>0.000266</td>\n",
       "    </tr>\n",
       "    <tr>\n",
       "      <th>91</th>\n",
       "      <td>Azure Data Engineer</td>\n",
       "      <td>1</td>\n",
       "      <td>0.000266</td>\n",
       "    </tr>\n",
       "    <tr>\n",
       "      <th>92</th>\n",
       "      <td>Staff Data Scientist</td>\n",
       "      <td>1</td>\n",
       "      <td>0.000266</td>\n",
       "    </tr>\n",
       "  </tbody>\n",
       "</table>\n",
       "<p>93 rows × 3 columns</p>\n",
       "</div>"
      ],
      "text/plain": [
       "col_0                  job_title  Frecuencia_Absoluta  Frecuencia_Relativa\n",
       "0                  Data Engineer                 1040             0.276964\n",
       "1                 Data Scientist                  840             0.223702\n",
       "2                   Data Analyst                  612             0.162983\n",
       "3      Machine Learning Engineer                  289             0.076964\n",
       "4             Analytics Engineer                  103             0.027430\n",
       "..                           ...                  ...                  ...\n",
       "88       Compliance Data Analyst                    1             0.000266\n",
       "89          Cloud Data Architect                    1             0.000266\n",
       "90              BI Data Engineer                    1             0.000266\n",
       "91           Azure Data Engineer                    1             0.000266\n",
       "92          Staff Data Scientist                    1             0.000266\n",
       "\n",
       "[93 rows x 3 columns]"
      ]
     },
     "execution_count": 140,
     "metadata": {},
     "output_type": "execute_result"
    }
   ],
   "source": [
    "pd.crosstab(index=datos['job_title'], columns='Frecuencia_Absoluta').assign(Frecuencia_Relativa=lambda x: x / x.sum()).sort_values(by='Frecuencia_Relativa', ascending=False).reset_index()"
   ]
  },
  {
   "cell_type": "markdown",
   "id": "ee16c324-7ea9-41bd-9de0-dcec55bfa597",
   "metadata": {},
   "source": [
    "**CONCLUSION.-** Algunos títulos pueden tener una alta frecuencia absoluta, pero si su frecuencia relativa es baja, indica que hay una gran variedad de títulos."
   ]
  },
  {
   "cell_type": "markdown",
   "id": "8165deda-f479-42ea-86b7-936a4646ce3c",
   "metadata": {},
   "source": [
    "### 6.-Elaborar 2 resumenes de datos con GROUP BY o PIVOT TABLE, obtenga algunas conclusiones\n"
   ]
  },
  {
   "cell_type": "code",
   "execution_count": 328,
   "id": "47409f5f-b0c6-4f67-a8c4-f6ad9dd5266f",
   "metadata": {},
   "outputs": [
    {
     "data": {
      "text/html": [
       "<div>\n",
       "<style scoped>\n",
       "    .dataframe tbody tr th:only-of-type {\n",
       "        vertical-align: middle;\n",
       "    }\n",
       "\n",
       "    .dataframe tbody tr th {\n",
       "        vertical-align: top;\n",
       "    }\n",
       "\n",
       "    .dataframe thead tr th {\n",
       "        text-align: left;\n",
       "    }\n",
       "</style>\n",
       "<table border=\"1\" class=\"dataframe\">\n",
       "  <thead>\n",
       "    <tr>\n",
       "      <th></th>\n",
       "      <th>company_location</th>\n",
       "      <th>experience_level</th>\n",
       "      <th colspan=\"2\" halign=\"left\">salary_in_usd</th>\n",
       "    </tr>\n",
       "    <tr>\n",
       "      <th></th>\n",
       "      <th></th>\n",
       "      <th></th>\n",
       "      <th>mean</th>\n",
       "      <th>sum</th>\n",
       "    </tr>\n",
       "  </thead>\n",
       "  <tbody>\n",
       "    <tr>\n",
       "      <th>0</th>\n",
       "      <td>AE</td>\n",
       "      <td>MI</td>\n",
       "      <td>115000.000000</td>\n",
       "      <td>115000</td>\n",
       "    </tr>\n",
       "    <tr>\n",
       "      <th>1</th>\n",
       "      <td>AE</td>\n",
       "      <td>SE</td>\n",
       "      <td>92500.000000</td>\n",
       "      <td>185000</td>\n",
       "    </tr>\n",
       "    <tr>\n",
       "      <th>2</th>\n",
       "      <td>AL</td>\n",
       "      <td>SE</td>\n",
       "      <td>10000.000000</td>\n",
       "      <td>10000</td>\n",
       "    </tr>\n",
       "    <tr>\n",
       "      <th>3</th>\n",
       "      <td>AM</td>\n",
       "      <td>MI</td>\n",
       "      <td>50000.000000</td>\n",
       "      <td>50000</td>\n",
       "    </tr>\n",
       "    <tr>\n",
       "      <th>4</th>\n",
       "      <td>AR</td>\n",
       "      <td>EN</td>\n",
       "      <td>25000.000000</td>\n",
       "      <td>75000</td>\n",
       "    </tr>\n",
       "    <tr>\n",
       "      <th>...</th>\n",
       "      <td>...</td>\n",
       "      <td>...</td>\n",
       "      <td>...</td>\n",
       "      <td>...</td>\n",
       "    </tr>\n",
       "    <tr>\n",
       "      <th>133</th>\n",
       "      <td>US</td>\n",
       "      <td>EN</td>\n",
       "      <td>102400.639344</td>\n",
       "      <td>18739317</td>\n",
       "    </tr>\n",
       "    <tr>\n",
       "      <th>134</th>\n",
       "      <td>US</td>\n",
       "      <td>EX</td>\n",
       "      <td>207445.520408</td>\n",
       "      <td>20329661</td>\n",
       "    </tr>\n",
       "    <tr>\n",
       "      <th>135</th>\n",
       "      <td>US</td>\n",
       "      <td>MI</td>\n",
       "      <td>127822.539235</td>\n",
       "      <td>63527802</td>\n",
       "    </tr>\n",
       "    <tr>\n",
       "      <th>136</th>\n",
       "      <td>US</td>\n",
       "      <td>SE</td>\n",
       "      <td>158683.522989</td>\n",
       "      <td>358942129</td>\n",
       "    </tr>\n",
       "    <tr>\n",
       "      <th>137</th>\n",
       "      <td>VN</td>\n",
       "      <td>EN</td>\n",
       "      <td>12000.000000</td>\n",
       "      <td>12000</td>\n",
       "    </tr>\n",
       "  </tbody>\n",
       "</table>\n",
       "<p>138 rows × 4 columns</p>\n",
       "</div>"
      ],
      "text/plain": [
       "    company_location experience_level  salary_in_usd           \n",
       "                                                mean        sum\n",
       "0                 AE               MI  115000.000000     115000\n",
       "1                 AE               SE   92500.000000     185000\n",
       "2                 AL               SE   10000.000000      10000\n",
       "3                 AM               MI   50000.000000      50000\n",
       "4                 AR               EN   25000.000000      75000\n",
       "..               ...              ...            ...        ...\n",
       "133               US               EN  102400.639344   18739317\n",
       "134               US               EX  207445.520408   20329661\n",
       "135               US               MI  127822.539235   63527802\n",
       "136               US               SE  158683.522989  358942129\n",
       "137               VN               EN   12000.000000      12000\n",
       "\n",
       "[138 rows x 4 columns]"
      ]
     },
     "execution_count": 328,
     "metadata": {},
     "output_type": "execute_result"
    }
   ],
   "source": [
    "pd.set_option('display.max_rows', 50)\n",
    "\n",
    "df1 = datos[['company_location','experience_level','salary_in_usd']] #En este caso la popularidad puede estár dada por mezcla de géneros, por lo cual no es conveniente separar los géneros\n",
    "df1.groupby(['company_location','experience_level'], as_index=False).agg(['mean','sum'])"
   ]
  },
  {
   "cell_type": "markdown",
   "id": "bd1c288c-c66b-44ea-92d7-d80d59fa4d2a",
   "metadata": {},
   "source": [
    "**Conclusión**  \n",
    "Los datos sugieren que tanto la ubicación de la empresa como el nivel de experiencia son factores determinantes en las diferencias salariales. Las empresas en regiones más desarrolladas tienden a ofrecer salarios más altos, mientras que los niveles de experiencia más avanzados también están asociados con salarios más altos. Esto resalta la importancia de considerar múltiples variables al analizar las compensaciones en el mercado laboral."
   ]
  },
  {
   "cell_type": "code",
   "execution_count": 142,
   "id": "7c94fba1-debc-4a00-a2a7-804610715acb",
   "metadata": {},
   "outputs": [
    {
     "name": "stdout",
     "output_type": "stream",
     "text": [
      "experience_level            EN             EX             MI             SE\n",
      "work_year                                                                  \n",
      "2020              57511.608696  139944.333333   87564.718750  137240.500000\n",
      "2021              54905.254545  186128.000000   82116.934783  126085.356164\n",
      "2022              77006.024194  188260.292683  101305.598338  147659.688049\n",
      "2023              95283.966102  203705.683333  116297.596875  159568.928516\n"
     ]
    }
   ],
   "source": [
    "pivot_table = df.pivot_table(values='salary_in_usd', index='work_year', columns='experience_level', aggfunc='mean')\n",
    "print(pivot_table)"
   ]
  },
  {
   "cell_type": "markdown",
   "id": "1887d82b-1f02-4e1e-a4b5-a48cb2b84ca3",
   "metadata": {},
   "source": [
    "la tabla dinámica proporciona una visión clara sobre cómo los salarios se distribuyen en función de la experiencia y el tiempo en el trabajo"
   ]
  },
  {
   "cell_type": "markdown",
   "id": "fdfa84f6-c5c6-487a-8243-d796d0bb89f8",
   "metadata": {},
   "source": [
    "### 7.-Elabora 4 Graficos que describan algunas variables, coloque una conclusión en cada gráfico"
   ]
  },
  {
   "cell_type": "markdown",
   "id": "9413dbe1-0bd0-46a9-9ab4-bb060a5635a8",
   "metadata": {},
   "source": [
    "### Grafico 1"
   ]
  },
  {
   "cell_type": "markdown",
   "id": "33b921e1-02a6-4082-bfc7-0046264d0bf3",
   "metadata": {},
   "source": [
    "Primer Identificamos y mostramos los países donde el salario promedio supera los 99.99 mil USD. \n",
    "Este tipo de filtro puede ser útil para identificar países con los salarios más altos, centrándose en aquellos \n",
    "donde las compensaciones son significativamente elevadas."
   ]
  },
  {
   "cell_type": "code",
   "execution_count": 143,
   "id": "7f28f080-942a-4f35-8176-b7b19c0524af",
   "metadata": {},
   "outputs": [],
   "source": [
    "salario_pais = datos.groupby(by='company_location')['salary_in_usd'].mean().reset_index().sort_values(by='salary_in_usd',ascending=False)\n",
    "salario_pais['salary_in_usd'] = salario_pais['salary_in_usd']/1000\n",
    "COND = salario_pais['salary_in_usd'] > 99.99\n",
    "salario_pais = salario_pais[COND]"
   ]
  },
  {
   "cell_type": "code",
   "execution_count": 144,
   "id": "0f904bde-0405-4607-98ee-ff96395209e3",
   "metadata": {},
   "outputs": [
    {
     "data": {
      "image/png": "[encoded data removed]",
      "text/plain": [
       "<Figure size 640x480 with 1 Axes>"
      ]
     },
     "metadata": {},
     "output_type": "display_data"
    }
   ],
   "source": [
    "ax = sns.barplot(data=salario_pais, y='company_location', x='salary_in_usd', color='skyblue')\n",
    "\n",
    "# Añadir etiquetas a las barras\n",
    "for container in ax.containers:\n",
    "    ax.bar_label(container, fmt='%.2f', padding=3)\n",
    "\n",
    "# Ajustar título y etiquetas\n",
    "plt.title('salary_in_usd por company_location', fontsize=16)\n",
    "plt.xlabel('salary_in_usd', fontsize=12)\n",
    "plt.ylabel('company_location', fontsize=12)\n",
    "\n",
    "# Ajustar la visualización\n",
    "plt.tight_layout()\n",
    "plt.show()"
   ]
  },
  {
   "cell_type": "markdown",
   "id": "e48e62e1-bb5f-412a-a393-0e4331b3da7b",
   "metadata": {},
   "source": [
    "**CONCLUSION**  \n",
    "El gráfico de barras generado muestra el salario promedio en miles de dólares (salary_in_usd) para diferentes ubicaciones de las empresas (company_location), destacando aquellos países o regiones con los salarios más altos, ya que previamente se filtraron los salarios superiores a 99.99 mil USD.  "
   ]
  },
  {
   "cell_type": "markdown",
   "id": "75421c0d-6eb4-4324-b2a3-e5b702b60bd4",
   "metadata": {},
   "source": [
    "### Grafico 2"
   ]
  },
  {
   "cell_type": "code",
   "execution_count": 145,
   "id": "07dbfcaf-6ac5-4c3e-8628-6792046a1c68",
   "metadata": {},
   "outputs": [
    {
     "data": {
      "image/png": "[encoded data removed]",
      "text/plain": [
       "<Figure size 640x480 with 1 Axes>"
      ]
     },
     "metadata": {},
     "output_type": "display_data"
    }
   ],
   "source": [
    "ax = sns.barplot(data=datos, x='work_year', y='salary_in_usd', hue='work_year', palette='rocket')\n",
    "\n",
    "# Añadir título y etiquetas\n",
    "plt.title('Salario por Año de Trabajo', fontsize=16)\n",
    "plt.xlabel('Año de Trabajo', fontsize=12)\n",
    "plt.ylabel('Salario en USD', fontsize=12)\n",
    "\n",
    "# Rotar las etiquetas del eje X para mejor visibilidad\n",
    "plt.xticks(rotation=45, ha='right', fontsize=10)\n",
    "\n",
    "# Añadir cuadrícula para mayor legibilidad\n",
    "plt.grid(axis='y', linestyle='--', alpha=0.7)\n",
    "\n",
    "# Mostrar el gráfico\n",
    "plt.tight_layout()  # Asegura que todo el contenido del gráfico esté visible\n",
    "plt.show()\n"
   ]
  },
  {
   "cell_type": "markdown",
   "id": "8fdc1689-42e9-4381-ae05-49cb863f34f8",
   "metadata": {},
   "source": [
    "**CONCLUSION**  \n",
    "El gráfico permite identificar tendencias salariales a lo largo del tiempo, observando si los salarios han aumentado, se han mantenido estables o han fluctuado \n",
    "en función del año de trabajo.\n",
    "Y claramente se puede observar en el grafico que cada año que pasa va ingrementando el salario."
   ]
  },
  {
   "cell_type": "markdown",
   "id": "38cfd97e-750a-4f59-b370-c7f5c6a2970f",
   "metadata": {},
   "source": [
    "### Grafico 3"
   ]
  },
  {
   "cell_type": "code",
   "execution_count": 146,
   "id": "4d019ae4-dfb2-42bb-ad01-418595128c17",
   "metadata": {},
   "outputs": [
    {
     "name": "stderr",
     "output_type": "stream",
     "text": [
      "C:\\Users\\HP\\AppData\\Local\\Temp\\ipykernel_14264\\2835744747.py:2: FutureWarning: \n",
      "\n",
      "Passing `palette` without assigning `hue` is deprecated and will be removed in v0.14.0. Assign the `x` variable to `hue` and set `legend=False` for the same effect.\n",
      "\n",
      "  sns.boxplot(data=datos, x='experience_level', y='salary_in_usd', palette='pastel')\n"
     ]
    },
    {
     "data": {
      "image/png": "[encoded data removed]",
      "text/plain": [
       "<Figure size 1200x800 with 1 Axes>"
      ]
     },
     "metadata": {},
     "output_type": "display_data"
    }
   ],
   "source": [
    "plt.figure(figsize=(12, 8))\n",
    "sns.boxplot(data=datos, x='experience_level', y='salary_in_usd', palette='pastel')\n",
    "plt.title('Distribución del Salario por Nivel de Experiencia', fontsize=16)\n",
    "plt.xlabel('Nivel de Experiencia', fontsize=12)\n",
    "plt.ylabel('Salario en USD', fontsize=12)\n",
    "plt.grid(axis='y', linestyle='--', alpha=0.7)\n",
    "plt.tight_layout()\n",
    "plt.show()"
   ]
  },
  {
   "cell_type": "markdown",
   "id": "5a5d06dd-f304-4bda-8bb8-ccec4e136295",
   "metadata": {},
   "source": [
    "**Conclusión:**  \n",
    "Este gráfico de caja muestra la distribución del salario según el nivel de experiencia. Se observa que los empleados con niveles de experiencia más altos  \n",
    "(como Senior y Expert) tienen salarios que se distribuyen en rangos más altos, lo que refuerza la idea de que la experiencia se traduce en mayores compensaciones."
   ]
  },
  {
   "cell_type": "markdown",
   "id": "739253d9-9311-473c-aea5-d2c983284043",
   "metadata": {},
   "source": [
    "### Grafico 4"
   ]
  },
  {
   "cell_type": "code",
   "execution_count": 147,
   "id": "7ec6b03b-c099-4795-b36d-ac37e9715f25",
   "metadata": {},
   "outputs": [
    {
     "data": {
      "image/png": "[encoded data removed]",
      "text/plain": [
       "<Figure size 1200x800 with 1 Axes>"
      ]
     },
     "metadata": {},
     "output_type": "display_data"
    }
   ],
   "source": [
    "salario_tipo_empleo_exp = datos.groupby(['employment_type', 'experience_level'])['salary_in_usd'].mean().reset_index()\n",
    "plt.figure(figsize=(12, 8))\n",
    "sns.barplot(data=salario_tipo_empleo_exp, x='salary_in_usd', y='employment_type', hue='experience_level', palette='mako')\n",
    "\n",
    "# Ajustar título y etiquetas\n",
    "plt.title('Salario Promedio por Tipo de Empleo y Nivel de Experiencia', fontsize=16)\n",
    "plt.xlabel('Salario en USD', fontsize=12)\n",
    "plt.ylabel('Tipo de Empleo', fontsize=12)\n",
    "plt.legend(title='Nivel de Experiencia')\n",
    "plt.grid(axis='x', linestyle='--', alpha=0.7)\n",
    "plt.tight_layout()\n",
    "plt.show()"
   ]
  },
  {
   "cell_type": "markdown",
   "id": "1843e14a-18d8-4737-b82a-e96485a8547e",
   "metadata": {},
   "source": [
    "**Conclusión:**  \n",
    "Este gráfico apilado muestra el salario promedio por tipo de empleo desglosado por nivel de experiencia. Cada color representa un nivel de experiencia, lo que permite ver cómo se distribuyen los salarios dentro de cada tipo de empleo y cuál es el más prevalente en cada categoría. Esto proporciona una visión más profunda sobre cómo los salarios varían no solo por tipo de empleo, sino también por el nivel de experiencia dentro de esos empleos."
   ]
  },
  {
   "cell_type": "markdown",
   "id": "84c5124c-1931-46b8-a03b-00509c74d39d",
   "metadata": {},
   "source": [
    "### 8.-Tome una muestra de 100 casos y elabore un análisis de intervalo de confianza {0.90, 0.95, 0.99]"
   ]
  },
  {
   "cell_type": "code",
   "execution_count": 278,
   "id": "8f40bf9e-8591-4be7-a510-ca35aea8d290",
   "metadata": {},
   "outputs": [],
   "source": [
    "from scipy import stats\n",
    "from scipy.stats import norm"
   ]
  },
  {
   "cell_type": "code",
   "execution_count": 279,
   "id": "62123668-5845-46f2-becb-54d76b152e36",
   "metadata": {},
   "outputs": [
    {
     "name": "stdout",
     "output_type": "stream",
     "text": [
      "(3755, 11)\n"
     ]
    },
    {
     "data": {
      "text/html": [
       "<div>\n",
       "<style scoped>\n",
       "    .dataframe tbody tr th:only-of-type {\n",
       "        vertical-align: middle;\n",
       "    }\n",
       "\n",
       "    .dataframe tbody tr th {\n",
       "        vertical-align: top;\n",
       "    }\n",
       "\n",
       "    .dataframe thead th {\n",
       "        text-align: right;\n",
       "    }\n",
       "</style>\n",
       "<table border=\"1\" class=\"dataframe\">\n",
       "  <thead>\n",
       "    <tr style=\"text-align: right;\">\n",
       "      <th></th>\n",
       "      <th>work_year</th>\n",
       "      <th>experience_level</th>\n",
       "      <th>employment_type</th>\n",
       "      <th>job_title</th>\n",
       "      <th>salary</th>\n",
       "      <th>salary_currency</th>\n",
       "      <th>salary_in_usd</th>\n",
       "      <th>employee_residence</th>\n",
       "      <th>remote_ratio</th>\n",
       "      <th>company_location</th>\n",
       "      <th>company_size</th>\n",
       "    </tr>\n",
       "  </thead>\n",
       "  <tbody>\n",
       "    <tr>\n",
       "      <th>0</th>\n",
       "      <td>2023</td>\n",
       "      <td>SE</td>\n",
       "      <td>FT</td>\n",
       "      <td>Principal Data Scientist</td>\n",
       "      <td>80000</td>\n",
       "      <td>EUR</td>\n",
       "      <td>85847</td>\n",
       "      <td>ES</td>\n",
       "      <td>100</td>\n",
       "      <td>ES</td>\n",
       "      <td>L</td>\n",
       "    </tr>\n",
       "    <tr>\n",
       "      <th>1</th>\n",
       "      <td>2023</td>\n",
       "      <td>MI</td>\n",
       "      <td>CT</td>\n",
       "      <td>ML Engineer</td>\n",
       "      <td>30000</td>\n",
       "      <td>USD</td>\n",
       "      <td>30000</td>\n",
       "      <td>US</td>\n",
       "      <td>100</td>\n",
       "      <td>US</td>\n",
       "      <td>S</td>\n",
       "    </tr>\n",
       "    <tr>\n",
       "      <th>2</th>\n",
       "      <td>2023</td>\n",
       "      <td>MI</td>\n",
       "      <td>CT</td>\n",
       "      <td>ML Engineer</td>\n",
       "      <td>25500</td>\n",
       "      <td>USD</td>\n",
       "      <td>25500</td>\n",
       "      <td>US</td>\n",
       "      <td>100</td>\n",
       "      <td>US</td>\n",
       "      <td>S</td>\n",
       "    </tr>\n",
       "    <tr>\n",
       "      <th>3</th>\n",
       "      <td>2023</td>\n",
       "      <td>SE</td>\n",
       "      <td>FT</td>\n",
       "      <td>Data Scientist</td>\n",
       "      <td>175000</td>\n",
       "      <td>USD</td>\n",
       "      <td>175000</td>\n",
       "      <td>CA</td>\n",
       "      <td>100</td>\n",
       "      <td>CA</td>\n",
       "      <td>M</td>\n",
       "    </tr>\n",
       "    <tr>\n",
       "      <th>4</th>\n",
       "      <td>2023</td>\n",
       "      <td>SE</td>\n",
       "      <td>FT</td>\n",
       "      <td>Data Scientist</td>\n",
       "      <td>120000</td>\n",
       "      <td>USD</td>\n",
       "      <td>120000</td>\n",
       "      <td>CA</td>\n",
       "      <td>100</td>\n",
       "      <td>CA</td>\n",
       "      <td>M</td>\n",
       "    </tr>\n",
       "  </tbody>\n",
       "</table>\n",
       "</div>"
      ],
      "text/plain": [
       "   work_year experience_level employment_type                 job_title  \\\n",
       "0       2023               SE              FT  Principal Data Scientist   \n",
       "1       2023               MI              CT               ML Engineer   \n",
       "2       2023               MI              CT               ML Engineer   \n",
       "3       2023               SE              FT            Data Scientist   \n",
       "4       2023               SE              FT            Data Scientist   \n",
       "\n",
       "   salary salary_currency  salary_in_usd employee_residence  remote_ratio  \\\n",
       "0   80000             EUR          85847                 ES           100   \n",
       "1   30000             USD          30000                 US           100   \n",
       "2   25500             USD          25500                 US           100   \n",
       "3  175000             USD         175000                 CA           100   \n",
       "4  120000             USD         120000                 CA           100   \n",
       "\n",
       "  company_location company_size  \n",
       "0               ES            L  \n",
       "1               US            S  \n",
       "2               US            S  \n",
       "3               CA            M  \n",
       "4               CA            M  "
      ]
     },
     "execution_count": 279,
     "metadata": {},
     "output_type": "execute_result"
    }
   ],
   "source": [
    "datos = pd.read_csv('ds_salaries.csv')\n",
    "print(datos.shape)\n",
    "datos.head()"
   ]
  },
  {
   "cell_type": "code",
   "execution_count": 280,
   "id": "8d8f0b00-b3a0-49ff-8afe-4b3a540f9d28",
   "metadata": {},
   "outputs": [
    {
     "name": "stdout",
     "output_type": "stream",
     "text": [
      "535     145000\n",
      "2200     42026\n",
      "657     194500\n",
      "126     129300\n",
      "2312     61566\n",
      "Name: salary_in_usd, dtype: int64\n"
     ]
    }
   ],
   "source": [
    "data = datos[datos['job_title'] == 'Data Engineer']\n",
    "\n",
    "# se tomo 100 casos\n",
    "muestra = data['salary_in_usd'].sample(100, random_state=42)\n",
    "\n",
    "# Mostrar las primeras filas de la muestra\n",
    "print(muestra.head())"
   ]
  },
  {
   "cell_type": "code",
   "execution_count": 281,
   "id": "b58b6390-72ea-4f11-aa0b-85a8ba4f7477",
   "metadata": {},
   "outputs": [
    {
     "name": "stdout",
     "output_type": "stream",
     "text": [
      "La media muestral de salary_in_usd es: 137768.18\n",
      "La desviación estandar de la muestra es: 54570.72481630942\n",
      "El tamaño de la muestra es: 100\n"
     ]
    }
   ],
   "source": [
    "nivelesConfianza = [0.9, 0.95, 0.99]\n",
    "\n",
    "mediaMuestral = np.mean(muestra)\n",
    "dsMuestral = np.std(muestra, ddof=1)\n",
    "tamanoMuestra = len(muestra)\n",
    "\n",
    "print(f'La media muestral de salary_in_usd es: {mediaMuestral}')\n",
    "print(f'La desviación estandar de la muestra es: {dsMuestral}')\n",
    "print(f'El tamaño de la muestra es: {tamanoMuestra}')"
   ]
  },
  {
   "cell_type": "markdown",
   "id": "6a0f908a-6e02-49c6-a6d0-5000e867f96d",
   "metadata": {},
   "source": [
    "### Calculamos los intervalos de confianza"
   ]
  },
  {
   "cell_type": "code",
   "execution_count": 229,
   "id": "9fa27562-1376-4d6e-9a48-50767a68dd39",
   "metadata": {},
   "outputs": [
    {
     "name": "stdout",
     "output_type": "stream",
     "text": [
      "Intervalo de confianza al 90.0%: (135877.82189186307, 139262.9578684565)\n",
      "Intervalo de confianza al 95.0%: (135553.5707273241, 139587.20903299545)\n",
      "Intervalo de confianza al 99.0%: (134919.84021965062, 140220.93954066894)\n"
     ]
    }
   ],
   "source": [
    "# Calcular el valor crítico de la distribución normal estándar para cada nivel de confianza\n",
    "critical_values = [norm.ppf((1 + confidence) / 2) for confidence in nivel_confianza]\n",
    "\n",
    "# Calcular el error estándar\n",
    "standard_error = sample_std / np.sqrt(sample_size)\n",
    "\n",
    "# Calcular los límites del intervalo de confianza para cada nivel\n",
    "confidence_intervals = [\n",
    "    (sample_mean - critical_value * standard_error, sample_mean + critical_value * standard_error)\n",
    "    for critical_value in critical_values\n",
    "]\n",
    "\n",
    "# Imprimir los intervalos de confianza\n",
    "for i, confidence_interval in enumerate(confidence_intervals):\n",
    "    confidence_level = nivel_confianza[i]\n",
    "    print(f\"Intervalo de confianza al {confidence_level*100}%: {confidence_interval}\")"
   ]
  },
  {
   "cell_type": "markdown",
   "id": "718e76b9-29bc-4124-abf4-db21f689aea5",
   "metadata": {},
   "source": [
    "**Conclusion**  \n",
    "Al 90% de confianza, la media poblacional del salario en USD se encuentra entre 128,792 y 146,744.  \n",
    "Al 95% de confianza, la media poblacional se encuentra entre 127,072 y 148,464.  \n",
    "Al 99% de confianza, la media poblacional se encuentra entre 123,712 y 151,825.  \n",
    "Esto significa que, con mayor confianza (99%), el intervalo es más amplio, reflejando más incertidumbre en la estimación"
   ]
  },
  {
   "cell_type": "markdown",
   "id": "f60417a4-cb93-42b5-92c5-dbe6aa06001f",
   "metadata": {},
   "source": [
    "### 9.-Realice un test de hipótesis, revise si el valor de la mediana de la población es igual al valor de la media poblacional para una variable cuantitativa"
   ]
  },
  {
   "cell_type": "markdown",
   "id": "ffd49ff2-3c6e-43dd-bf52-bf3c0697d451",
   "metadata": {},
   "source": [
    "Hipótesis Nula **H₀** : Mediana Poblacional = Media Poblacional  \n",
    "Hipótesis Alternativa **H₁** : Mediana Poblacional != Media Poblacional"
   ]
  },
  {
   "cell_type": "code",
   "execution_count": 250,
   "id": "c1f990c2-4748-427a-a0bb-7e3d93eee0c3",
   "metadata": {},
   "outputs": [
    {
     "name": "stdout",
     "output_type": "stream",
     "text": [
      "Test estadístico t: 3.180600263955817\n",
      "Valor p: 0.0015132206548465286\n",
      "Rechazamos la hipótesis nula: La media no es igual a la mediana\n"
     ]
    }
   ],
   "source": [
    "df = data['salary']\n",
    "\n",
    "medianaPoblacional = np.median(df)\n",
    "\n",
    "t_statistic, p_value_ttest = stats.ttest_1samp(df, medianaPoblacional)\n",
    "\n",
    "print(f'Test estadístico t: {t_statistic}')\n",
    "print(f'Valor p: {p_value_ttest}')\n",
    "\n",
    "\n",
    "if p_value_ttest < 0.05:\n",
    "    print(\"Rechazamos la hipótesis nula: La media no es igual a la mediana\")\n",
    "else:\n",
    "    print(\"No podemos rechazar la hipótesis nula: La media es igual a la mediana\")\n"
   ]
  },
  {
   "cell_type": "markdown",
   "id": "57ac2e8d-d0b5-4f62-93c4-4c352057d37b",
   "metadata": {},
   "source": [
    "**CONCLUSION.-**  \n",
    "Estadístico t: 3.18  \n",
    "Valor p: 0.0015 (menor a 0.05)  \n",
    "Dado que el valor p es muy pequeño (0.0015), mucho menor que el nivel de significancia típico de 0.05, rechazamos la hipótesis nula. Esto significa que existe evidencia estadística suficiente para concluir que la media y la mediana del salario no son iguales."
   ]
  },
  {
   "cell_type": "markdown",
   "id": "1e19e946-41ef-4e36-a53b-9b0c6fe89dfd",
   "metadata": {},
   "source": [
    "### 10.-Elija una variable categórica y una cuantitativa, realice un análisis ANOVA de un factor"
   ]
  },
  {
   "cell_type": "markdown",
   "id": "df18ceba-13c0-4059-a24e-5a8881eb8256",
   "metadata": {},
   "source": [
    "**Comparación entre grupos**  \n",
    "Hipótesis  \n",
    "**H₀:** La media de salary_in_usd entre los grupos es igual.  \n",
    "**H₁:** La media de salary_in_usd entre los grupos es diferente."
   ]
  },
  {
   "cell_type": "code",
   "execution_count": 312,
   "id": "dcea1c85-4725-4ccc-b681-84f2ba105207",
   "metadata": {},
   "outputs": [],
   "source": [
    "\n",
    "from scipy import stats\n",
    "from scipy.stats import norm"
   ]
  },
  {
   "cell_type": "code",
   "execution_count": 293,
   "id": "d61c0adc-da43-4cb6-8087-21399d103494",
   "metadata": {},
   "outputs": [
    {
     "name": "stdout",
     "output_type": "stream",
     "text": [
      "       Multiple Comparison of Means - Tukey HSD, FWER=0.05       \n",
      "=================================================================\n",
      "group1 group2   meandiff   p-adj     lower        upper    reject\n",
      "-----------------------------------------------------------------\n",
      "    EN     EX  239583.2757 0.0065   74031.2844 405135.2671   True\n",
      "    EN     MI     2120.515    1.0 -133052.1199 137293.1499  False\n",
      "    EN     SE   36445.2553  0.862 -109557.8774  182448.388  False\n",
      "    EX     MI -237462.7607 0.0069  -403014.752 -71910.7694   True\n",
      "    EX     SE -203138.0205 0.0232 -377645.1417 -28630.8992   True\n",
      "    MI     SE   34324.7402 0.8811 -111678.3925 180327.8729  False\n",
      "-----------------------------------------------------------------\n"
     ]
    }
   ],
   "source": [
    "from statsmodels.stats.multicomp import pairwise_tukeyhsd\n",
    "\n",
    "posthoc = pairwise_tukeyhsd(salario_tipo_empleo_exp['salary_in_usd'], salario_tipo_empleo_exp['experience_level'])\n",
    "print(posthoc)"
   ]
  },
  {
   "cell_type": "markdown",
   "id": "a96ff945-97ee-4277-a9c4-55d3fc092d59",
   "metadata": {},
   "source": [
    "**Comparaciones donde se rechaza la hipótesis nula (H₀):**  \n",
    "EN vs. EX: La media entre estos grupos es significativamente diferente (p-adj: 0.0065).  \n",
    "EX vs. MI: La media entre estos grupos es significativamente diferente (p-adj: 0.0069).  \n",
    "EX vs. SE: La media entre estos grupos es significativamente diferente (p-adj: 0.0232).  \n",
    "\n",
    "**Comparaciones donde no se rechaza la hipótesis nula:**  \n",
    "EN vs. MI: No hay evidencia suficiente para afirmar que las medias son diferentes (p-adj: 1.0).  \n",
    "EN vs. SE: No hay evidencia suficiente para afirmar que las medias son diferentes (p-adj: 0.862).  \n",
    "MI vs. SE: No hay evidencia suficiente para afirmar que las medias son diferentes (p-adj: 0.8811)."
   ]
  },
  {
   "cell_type": "code",
   "execution_count": 295,
   "id": "4d088915-ccae-45bc-9188-c03812f6408d",
   "metadata": {},
   "outputs": [
    {
     "data": {
      "text/plain": [
       "experience_level\n",
       "EN    4\n",
       "MI    4\n",
       "SE    3\n",
       "EX    2\n",
       "Name: count, dtype: int64"
      ]
     },
     "execution_count": 295,
     "metadata": {},
     "output_type": "execute_result"
    }
   ],
   "source": [
    "salario_tipo_empleo_exp['experience_level'].value_counts()"
   ]
  },
  {
   "cell_type": "code",
   "execution_count": 300,
   "id": "29085cca-3843-4b31-89dc-f13131625efc",
   "metadata": {},
   "outputs": [
    {
     "name": "stdout",
     "output_type": "stream",
     "text": [
      "Prueba de Levene (Estadístico): 15.482749733433357\n",
      "Prueba de Levene (P-valor): 0.0006735841005630762\n",
      "Rechazamos la hipótesis nula: las varianzas no son iguales.\n"
     ]
    }
   ],
   "source": [
    "from scipy.stats import levene\n",
    "\n",
    "# Agrupar los salarios según el nivel de experiencia\n",
    "grupos = [\n",
    "    salario_tipo_empleo_exp[salario_tipo_empleo_exp['experience_level'] == level]['salary_in_usd']\n",
    "    for level in salario_tipo_empleo_exp['experience_level'].unique()\n",
    "]\n",
    "\n",
    "# Realizar la prueba de Levene\n",
    "statistic, p_value = levene(*grupos)\n",
    "\n",
    "print(f'Prueba de Levene (Estadístico): {statistic}')\n",
    "print(f'Prueba de Levene (P-valor): {p_value}')\n",
    "\n",
    "if p_value < 0.05:\n",
    "    print(\"Rechazamos la hipótesis nula: las varianzas no son iguales.\")\n",
    "else:\n",
    "    print(\"No se rechaza la hipótesis nula: las varianzas son iguales.\")"
   ]
  },
  {
   "cell_type": "code",
   "execution_count": null,
   "id": "b861bc4d-4122-4533-a5ee-426e716b8c50",
   "metadata": {},
   "outputs": [],
   "source": [
    "Dado que las varianzas no son iguales, debo utilizar un ANOVA con corrección o ajustado."
   ]
  },
  {
   "cell_type": "markdown",
   "id": "7ae72bd8-2fdd-4022-b78a-a5a117fe3c13",
   "metadata": {},
   "source": [
    "### ANOVA con corrección"
   ]
  },
  {
   "cell_type": "code",
   "execution_count": 302,
   "id": "03ef066b-f986-4e74-a374-9290ad1f1dde",
   "metadata": {},
   "outputs": [
    {
     "name": "stdout",
     "output_type": "stream",
     "text": [
      "                           sum_sq   df         F    PR(>F)\n",
      "C(experience_level)  1.207940e+10  3.0  1.073807  0.407924\n",
      "Residual             3.374740e+10  9.0       NaN       NaN\n"
     ]
    }
   ],
   "source": [
    "import statsmodels.api as sm\n",
    "from statsmodels.formula.api import ols\n",
    "\n",
    "anova_model = ols('Q(\"salary_in_usd\") ~ C(experience_level)', data=salario_tipo_empleo_exp).fit(cov_type='HC3')\n",
    "anova_table = sm.stats.anova_lm(anova_model, typ=2)\n",
    "\n",
    "print(anova_table)"
   ]
  },
  {
   "cell_type": "markdown",
   "id": "def0a14b-a015-4c07-a2a7-1f0ecb745a93",
   "metadata": {},
   "source": [
    "**Conclusión a nálisis ANOVA:**  \n",
    "Dado que el p-valor (0.407924) es mayor que el nivel de significancia comúnmente utilizado (0.05), no hay suficiente evidencia para rechazar la hipótesis nula (H₀). Esto significa que:  \n",
    "No hay diferencias significativas en las medias de los salarios entre los diferentes niveles de experiencia (experience_level)."
   ]
  },
  {
   "cell_type": "code",
   "execution_count": null,
   "id": "c969a7e3-44c7-425c-a761-459893c36f6e",
   "metadata": {},
   "outputs": [],
   "source": []
  }
 ],
 "metadata": {
  "kernelspec": {
   "display_name": "Python 3 (ipykernel)",
   "language": "python",
   "name": "python3"
  },
  "language_info": {
   "codemirror_mode": {
    "name": "ipython",
    "version": 3
   },
   "file_extension": ".py",
   "mimetype": "text/x-python",
   "name": "python",
   "nbconvert_exporter": "python",
   "pygments_lexer": "ipython3",
   "version": "3.12.4"
  }
 },
 "nbformat": 4,
 "nbformat_minor": 5
}
